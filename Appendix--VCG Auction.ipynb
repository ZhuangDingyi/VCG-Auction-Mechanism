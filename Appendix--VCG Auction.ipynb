{
 "cells": [
  {
   "cell_type": "code",
   "execution_count": 1,
   "metadata": {
    "ExecuteTime": {
     "end_time": "2019-10-16T21:33:17.614180Z",
     "start_time": "2019-10-16T21:33:13.000006Z"
    },
    "collapsed": true
   },
   "outputs": [],
   "source": [
    "import numpy as np\n",
    "import pandas as pd\n",
    "import random\n",
    "from itertools import combinations\n",
    "from sklearn.externals import joblib\n",
    "from tqdm import tqdm_notebook\n",
    "from matplotlib import pyplot as plt\n",
    "import numba as nb"
   ]
  },
  {
   "cell_type": "markdown",
   "metadata": {},
   "source": [
    "# Introduce VCG Auction and implement it"
   ]
  },
  {
   "cell_type": "markdown",
   "metadata": {},
   "source": [
    "What is VCG Auction? From Wiki https://en.wikipedia.org/wiki/Vickrey%E2%80%93Clarke%E2%80%93Groves_auction:\n",
    "\n",
    "Consider an auction where a set of identical products are being sold. Bidders can take part in the auction by announcing the maximum price they are willing to pay to receive N products. Each buyer is allowed to declare more than one bid, since its willingness-to-pay per unit might be different depending on the total number of units it receives. Bidders cannot see other people's bids at any moment since they are sealed (only visible to the auction system). Once all the bids are made, the auction is closed.\n",
    "\n",
    "All the possible combinations of bids are then considered by the auction system, and the one maximizing the total sum of bids is kept, with the condition that it does not exceed the total amount of products available and that at most one bid from each bidder can be used. Bidders who have made a successful bid then receive the product quantity specified in their bid. The price they pay in exchange, however, is not the amount they had bid initially but only the marginal harm their bid has caused to other bidders (which is at most as high as their original bid).\n",
    "\n",
    "This marginal harm caused to other participants (i.e. the final price paid by each individual with a successful bid) can be calculated as: (sum of bids of the auction from the best combination of bids excluding the participant under consideration) - (what other winning bidders have bid in the current (best) combination of bids). If the sum of bids of the second best combination of bids is the same as that of the best combination, then the price paid by the buyers will be the same as their initial bid. In all other cases, the price paid by the buyers will be lower.\n",
    "\n",
    "At the end of the auction, the total utility has been maximized since all the goods have been attributed to the people with the highest combined willingness-to-pay. If agents are fully rational and in the absence of collusion, we can assume that the willingness to pay have been reported truthfully since only the marginal harm to other bidders will be charged to each participant, making truthful reporting a weakly-dominant strategy. This type of auction, however, will not maximize the seller's revenue unless the sum of bids of the second best combination of bids is equal to the sum of bids of the best combination of bids."
   ]
  },
  {
   "cell_type": "code",
   "execution_count": 12,
   "metadata": {
    "ExecuteTime": {
     "end_time": "2019-10-17T01:39:35.267148Z",
     "start_time": "2019-10-17T01:39:35.088558Z"
    }
   },
   "outputs": [],
   "source": [
    "class VCG_Auction_Process(object):\n",
    "    def __init__(self,value_mat_origin):\n",
    "        self.value_mat_origin=value_mat_origin\n",
    "        self.value_mat=self.value_mat_origin\n",
    "        self.allocation=self.value_mat.columns # For single-item condition\n",
    "        self.best_price=0 #Initialization\n",
    "    @nb.jit\n",
    "    def who_win(self):\n",
    "        '''\n",
    "        Pick up the winners for each item, if bids are the same, then a winner will be randomly picked\n",
    "        '''\n",
    "        self.winner_list=[] #Bidder index for each winner of the item\n",
    "        self.second_price_list=[]\n",
    "        winner_temp=[]\n",
    "        for item_set in self.allocation:\n",
    "            item_represent=item_set[0] #Because all other items in the set share the same value\n",
    "            winner_temp.append(np.where(self.value_mat[item_represent]==np.max(self.value_mat[item_represent]))[0])\n",
    "        for item_set_index,winner in enumerate(winner_temp):\n",
    "            item_set=self.allocation[item_set_index] # The item set like [0,1]\n",
    "            item_represent=item_set[0]# Representation\n",
    "            if len(winner)>1:\n",
    "                #print(\"Item set {:} has multiple winner: {:}\".format(item_set,winner))\n",
    "                random.seed(10)\n",
    "                self.winner_list.append(random.choice(winner))\n",
    "                second_price=sorted(self.value_mat[item_represent])[-2]\n",
    "                # Add the payment of each winner, pay your value if the \"same\" occur\n",
    "                self.second_price_list.append(second_price) \n",
    "            else:\n",
    "                self.winner_list.append(winner[0])\n",
    "                second_price=sorted(self.value_mat[item_represent])[-2]\n",
    "                self.second_price_list.append(second_price)\n",
    "        #print(self.value_mat)\n",
    "        #print(self.winner_list)\n",
    "        return self.winner_list,self.second_price_list\n",
    "    \n",
    "    def winner_price(self):\n",
    "        '''\n",
    "        Calculate the price that the winner does to other agents and the mechanism will charge the price for each winner\n",
    "        \n",
    "        Make sure function who_win is run in advance\n",
    "        '''\n",
    "        self.welfare_list=[] # List for the welfare contributed by the winner. the sum of this list is the social welfare\n",
    "        self.price_list=[] # List for the price that the winner charged, for losers they don't pay\n",
    "        value_winner_list=[]\n",
    "        value_without_winner_list=[]\n",
    "        # Get the value list of winner\n",
    "        # With the winners\n",
    "        for item_set_index,winner in enumerate(self.winner_list):\n",
    "            item_set=self.allocation[item_set_index] # The item set like [0,1]\n",
    "            item_represent=item_set[0]# Representation\n",
    "            value_winner_list.append(self.value_mat[item_represent].iloc[winner])\n",
    "        self.welfare_list=value_winner_list\n",
    "        # Without the winners\n",
    "        value_without_winner_list=self.second_price_list\n",
    "        # Contribution of the winner\n",
    "        \n",
    "        ctrib_list=list(map(lambda x: x[0]-x[1],zip(value_winner_list,value_without_winner_list)))\n",
    "        # Price of the winner charged by the mechanism\n",
    "        self.price_list=list(map(lambda x: x[0]-x[1],zip(value_winner_list,ctrib_list)))\n",
    "        return self.price_list,self.welfare_list\n",
    "    def allocate_items(self,allocation):\n",
    "        '''\n",
    "        Allocate different sets of items\n",
    "        '''\n",
    "        self.allocation=allocation# Consider a finxed allocation case\n",
    "        self.update_value_mat()\n",
    "    @nb.jit\n",
    "    def update_value_mat(self):\n",
    "        '''\n",
    "        Update the value of bidders for item sets as the value of item sets are the maximum value inside\n",
    "        '''\n",
    "        self.value_mat=self.value_mat_origin.copy()\n",
    "        for set_index,item_set in enumerate(self.allocation):\n",
    "            for bidder,value in self.value_mat.iterrows():\n",
    "                self.value_mat.iloc[bidder][item_set]=np.max(self.value_mat.iloc[bidder][item_set])\n",
    "                \n",
    "    def find_best_allocation_price(self,current_price):\n",
    "        if current_price>=self.best_price:\n",
    "            self.best_allocation=self.allocation # Initialization\n",
    "            self.best_price=current_price\n",
    "        \n",
    "    def begin(self,possible_allocations):\n",
    "        f=open('allocation_price.txt','w+')\n",
    "        for allocation in tqdm_notebook(possible_allocations): #Define your possible_allocations here:\n",
    "            self.allocate_items(allocation)\n",
    "            self.who_win()\n",
    "            self.winner_price()\n",
    "            self.find_best_allocation_price(np.sum(np.sum(self.price_list)))\n",
    "            f.write('For Allocation: {:} Pirce charged by mechanism {:} and total {:}\\n'.format(\n",
    "            self.allocation,self.price_list,np.sum(self.price_list)))\n",
    "        f.close()\n",
    "        print('Best allocation: {:} and the mechanism charges {:}'.format(self.best_allocation,self.best_price))"
   ]
  },
  {
   "cell_type": "markdown",
   "metadata": {},
   "source": [
    "You only need to define your possible allocation of items for iteration"
   ]
  },
  {
   "cell_type": "markdown",
   "metadata": {},
   "source": [
    "# Enumerate all the allocation to find the best allocation and price"
   ]
  },
  {
   "cell_type": "code",
   "execution_count": 2,
   "metadata": {
    "ExecuteTime": {
     "end_time": "2019-10-12T14:33:06.684187Z",
     "start_time": "2019-10-12T14:33:06.654269Z"
    }
   },
   "outputs": [
    {
     "data": {
      "text/html": [
       "<div>\n",
       "<style scoped>\n",
       "    .dataframe tbody tr th:only-of-type {\n",
       "        vertical-align: middle;\n",
       "    }\n",
       "\n",
       "    .dataframe tbody tr th {\n",
       "        vertical-align: top;\n",
       "    }\n",
       "\n",
       "    .dataframe thead th {\n",
       "        text-align: right;\n",
       "    }\n",
       "</style>\n",
       "<table border=\"1\" class=\"dataframe\">\n",
       "  <thead>\n",
       "    <tr style=\"text-align: right;\">\n",
       "      <th></th>\n",
       "      <th>0</th>\n",
       "      <th>1</th>\n",
       "      <th>2</th>\n",
       "      <th>3</th>\n",
       "      <th>4</th>\n",
       "      <th>5</th>\n",
       "      <th>6</th>\n",
       "      <th>7</th>\n",
       "    </tr>\n",
       "  </thead>\n",
       "  <tbody>\n",
       "    <tr>\n",
       "      <td>0</td>\n",
       "      <td>26</td>\n",
       "      <td>8</td>\n",
       "      <td>59</td>\n",
       "      <td>5</td>\n",
       "      <td>42</td>\n",
       "      <td>17</td>\n",
       "      <td>6</td>\n",
       "      <td>34</td>\n",
       "    </tr>\n",
       "    <tr>\n",
       "      <td>1</td>\n",
       "      <td>11</td>\n",
       "      <td>18</td>\n",
       "      <td>53</td>\n",
       "      <td>9</td>\n",
       "      <td>40</td>\n",
       "      <td>22</td>\n",
       "      <td>17</td>\n",
       "      <td>35</td>\n",
       "    </tr>\n",
       "    <tr>\n",
       "      <td>2</td>\n",
       "      <td>19</td>\n",
       "      <td>25</td>\n",
       "      <td>50</td>\n",
       "      <td>24</td>\n",
       "      <td>49</td>\n",
       "      <td>23</td>\n",
       "      <td>21</td>\n",
       "      <td>31</td>\n",
       "    </tr>\n",
       "    <tr>\n",
       "      <td>3</td>\n",
       "      <td>2</td>\n",
       "      <td>3</td>\n",
       "      <td>52</td>\n",
       "      <td>3</td>\n",
       "      <td>45</td>\n",
       "      <td>14</td>\n",
       "      <td>21</td>\n",
       "      <td>38</td>\n",
       "    </tr>\n",
       "    <tr>\n",
       "      <td>4</td>\n",
       "      <td>1</td>\n",
       "      <td>23</td>\n",
       "      <td>54</td>\n",
       "      <td>28</td>\n",
       "      <td>47</td>\n",
       "      <td>17</td>\n",
       "      <td>14</td>\n",
       "      <td>33</td>\n",
       "    </tr>\n",
       "    <tr>\n",
       "      <td>5</td>\n",
       "      <td>22</td>\n",
       "      <td>27</td>\n",
       "      <td>57</td>\n",
       "      <td>27</td>\n",
       "      <td>43</td>\n",
       "      <td>19</td>\n",
       "      <td>23</td>\n",
       "      <td>36</td>\n",
       "    </tr>\n",
       "    <tr>\n",
       "      <td>6</td>\n",
       "      <td>21</td>\n",
       "      <td>19</td>\n",
       "      <td>55</td>\n",
       "      <td>28</td>\n",
       "      <td>46</td>\n",
       "      <td>16</td>\n",
       "      <td>5</td>\n",
       "      <td>32</td>\n",
       "    </tr>\n",
       "    <tr>\n",
       "      <td>7</td>\n",
       "      <td>20</td>\n",
       "      <td>12</td>\n",
       "      <td>56</td>\n",
       "      <td>18</td>\n",
       "      <td>41</td>\n",
       "      <td>16</td>\n",
       "      <td>10</td>\n",
       "      <td>39</td>\n",
       "    </tr>\n",
       "    <tr>\n",
       "      <td>8</td>\n",
       "      <td>2</td>\n",
       "      <td>4</td>\n",
       "      <td>58</td>\n",
       "      <td>28</td>\n",
       "      <td>48</td>\n",
       "      <td>26</td>\n",
       "      <td>15</td>\n",
       "      <td>30</td>\n",
       "    </tr>\n",
       "    <tr>\n",
       "      <td>9</td>\n",
       "      <td>20</td>\n",
       "      <td>9</td>\n",
       "      <td>51</td>\n",
       "      <td>10</td>\n",
       "      <td>44</td>\n",
       "      <td>20</td>\n",
       "      <td>6</td>\n",
       "      <td>37</td>\n",
       "    </tr>\n",
       "  </tbody>\n",
       "</table>\n",
       "</div>"
      ],
      "text/plain": [
       "    0   1   2   3   4   5   6   7\n",
       "0  26   8  59   5  42  17   6  34\n",
       "1  11  18  53   9  40  22  17  35\n",
       "2  19  25  50  24  49  23  21  31\n",
       "3   2   3  52   3  45  14  21  38\n",
       "4   1  23  54  28  47  17  14  33\n",
       "5  22  27  57  27  43  19  23  36\n",
       "6  21  19  55  28  46  16   5  32\n",
       "7  20  12  56  18  41  16  10  39\n",
       "8   2   4  58  28  48  26  15  30\n",
       "9  20   9  51  10  44  20   6  37"
      ]
     },
     "execution_count": 2,
     "metadata": {},
     "output_type": "execute_result"
    }
   ],
   "source": [
    "# variables\n",
    "value_mat_origin=pd.read_table('Assignment#2-Q8-values.txt',delimiter=' ',header=None,sep='\\\\t')\n",
    "value_mat_origin=value_mat_origin.drop([8],axis=1)\n",
    "value_mat_origin"
   ]
  },
  {
   "cell_type": "markdown",
   "metadata": {},
   "source": [
    "Generate all possible allocation"
   ]
  },
  {
   "cell_type": "code",
   "execution_count": 12,
   "metadata": {
    "ExecuteTime": {
     "end_time": "2019-10-12T14:35:56.945587Z",
     "start_time": "2019-10-12T14:35:56.938609Z"
    },
    "collapsed": true
   },
   "outputs": [],
   "source": [
    "columns=value_mat_origin.columns\n",
    "columns=list(columns)\n",
    "possible_allocations_8=[]\n",
    "possible_allocations_7=[]\n",
    "possible_allocations_6=[]\n",
    "possible_allocations_5=[]\n",
    "possible_allocations_4=[]\n",
    "possible_allocations_3=[]\n",
    "possible_allocations_2=[]\n",
    "possible_allocations_1=[]"
   ]
  },
  {
   "cell_type": "code",
   "execution_count": 9,
   "metadata": {
    "ExecuteTime": {
     "end_time": "2019-10-12T14:34:40.487653Z",
     "start_time": "2019-10-12T14:34:40.293149Z"
    },
    "collapsed": true
   },
   "outputs": [],
   "source": [
    "def divide(item,l):\n",
    "    ll=l.copy()\n",
    "    ll.remove(item)\n",
    "    return ll\n",
    "def merge_unit(two_item,l):\n",
    "    '''\n",
    "    Just deal with two items\n",
    "    '''\n",
    "    if len(two_item)>2:\n",
    "        print('Emission of merge_unit')\n",
    "    else:\n",
    "        return [   [ [two_item[0]],[two_item[1]],l],[[two_item[0],two_item[1]],l]]\n",
    "    \n",
    "def add_allocation(unit_two,allocations):\n",
    "    allocations.append(unit_two[0])\n",
    "    allocations.append(unit_two[1])\n",
    "    \n",
    "def merge_three(three_items,l,allocations):\n",
    "    # only one item in each set\n",
    "    head1=[[e] for e in three_items]+[l]\n",
    "    allocations.append(head1)\n",
    "    # two item in each set\n",
    "    for the_left in three_items:\n",
    "        l2=divide(the_left,three_items)\n",
    "        head2=[[the_left],l2]+[l]\n",
    "        allocations.append(head2)\n",
    "    # Three item in each set\n",
    "    head3=[three_items,l]\n",
    "    allocations.append(head3)\n",
    "    \n",
    "def merge_four(four_items,l,allocations):\n",
    "    # only one item in each set\n",
    "    head1=[[e] for e in four_items]+[l]\n",
    "    allocations.append(head1)\n",
    "    # two items in each set\n",
    "    for two_item_set in combinations(four_items,2):\n",
    "        two_item_set=list(two_item_set)\n",
    "        left_item_set=list(set(four_items)-set(two_item_set))\n",
    "        merge_three((left_item_set+two_item_set),l,allocations)\n",
    "    # three items in each set\n",
    "    for the_left in four_items:\n",
    "        l3=divide(the_left,four_items)\n",
    "        head3=[[the_left],l3]+[l]\n",
    "        allocations.append(head3)\n",
    "    # Four item in each set\n",
    "    head4=[four_items,l]\n",
    "    allocations.append(head4)\n",
    "\n",
    "def merge_five(five_items,l,allocations):\n",
    "    # only one item in each set\n",
    "    head1=[[e] for e in five_items]+[l]\n",
    "    allocations.append(head1)\n",
    "    # two items in each set\n",
    "    for two_item_set in combinations(five_items,2):\n",
    "        two_item_set=list(two_item_set)\n",
    "        left_item_set=five_items.copy()\n",
    "        for i in range(len(two_item_set)):\n",
    "            left_item_set.remove(two_item_set[i])\n",
    "        merge_four((left_item_set+two_item_set),l,allocations)\n",
    "    # three items in each set (at most)\n",
    "    for three_item_set in combinations(five_items,3):\n",
    "        three_item_set=list(three_item_set)\n",
    "        left_item_set=five_items.copy()\n",
    "        for i in range(len(three_item_set)):\n",
    "            left_item_set.remove(three_item_set[i])\n",
    "        merge_three((left_item_set+three_item_set),l,allocations)\n",
    "        \n",
    "def merge_six(six_items,l,allocations):\n",
    "    # only one item in each set\n",
    "    head1=[[e] for e in six_items]+[l]\n",
    "    allocations.append(head1)\n",
    "    # two items in the maximum set(at moist)\n",
    "    for two_item_set in combinations(six_items,2):\n",
    "        two_item_set=list(two_item_set)\n",
    "        left_item_set=six_items.copy()\n",
    "        for i in range(len(two_item_set)):\n",
    "            left_item_set.remove(two_item_set[i])\n",
    "        # Left set is all 1-item set\n",
    "        head2=[[e] for e in left_item_set]+[two_item_set]+[l]\n",
    "        allocations.append(head2)\n",
    "        # Left set has 1 two-item set\n",
    "        for left_two_item_set in combinations(left_item_set,2):\n",
    "            left_two_item_set=list(left_two_item_set)\n",
    "            left_left_item_set=left_item_set.copy()\n",
    "            for j in range(2):\n",
    "                left_left_item_set.remove(left_two_item_set[j])\n",
    "                head3=[[e] for e in left_left_item_set]+[left_two_item_set]+[two_item_set]+[l]\n",
    "                allocations.append(head3)\n",
    "            # All the six-items divied into three two-item sets\n",
    "            head4=[left_left_item_set]+[left_two_item_set]+[two_item_set]+[l]\n",
    "            allocations.append(head4)"
   ]
  },
  {
   "cell_type": "code",
   "execution_count": 143,
   "metadata": {
    "ExecuteTime": {
     "end_time": "2019-10-12T15:53:14.730040Z",
     "start_time": "2019-10-12T15:53:14.721065Z"
    }
   },
   "outputs": [
    {
     "name": "stdout",
     "output_type": "stream",
     "text": [
      "1\n"
     ]
    }
   ],
   "source": [
    "# 8 item sets\n",
    "possible_allocations_8=[[[0,1,2,3,4,5,6,7]]]\n",
    "joblib.dump(possible_allocations_8,'possible_allocations_8.asv')\n",
    "print(len(possible_allocations_8))"
   ]
  },
  {
   "cell_type": "code",
   "execution_count": 14,
   "metadata": {
    "ExecuteTime": {
     "end_time": "2019-10-12T14:36:50.585618Z",
     "start_time": "2019-10-12T14:36:50.577640Z"
    }
   },
   "outputs": [
    {
     "name": "stdout",
     "output_type": "stream",
     "text": [
      "8\n"
     ]
    }
   ],
   "source": [
    "# 7 item sets\n",
    "for item in columns:\n",
    "    possible_allocations_7.append([[item],divide(item,columns)])\n",
    "joblib.dump(possible_allocations_7,'possible_allocations_7.asv')\n",
    "print(len(possible_allocations_7))"
   ]
  },
  {
   "cell_type": "code",
   "execution_count": 15,
   "metadata": {
    "ExecuteTime": {
     "end_time": "2019-10-12T14:37:25.238547Z",
     "start_time": "2019-10-12T14:37:25.226581Z"
    }
   },
   "outputs": [
    {
     "name": "stdout",
     "output_type": "stream",
     "text": [
      "112\n"
     ]
    }
   ],
   "source": [
    "# 6 item sets\n",
    "for item in columns:\n",
    "    l1=divide(item,columns)\n",
    "    for item2 in l1:\n",
    "        l2=divide(item2,l1)\n",
    "        unit=merge_unit([item,item2],l2)\n",
    "        add_allocation(unit,possible_allocations_6)\n",
    "joblib.dump(possible_allocations_6,'possible_allocations_6.asv')\n",
    "print(len(possible_allocations_6))"
   ]
  },
  {
   "cell_type": "code",
   "execution_count": 16,
   "metadata": {
    "ExecuteTime": {
     "end_time": "2019-10-12T14:38:03.355641Z",
     "start_time": "2019-10-12T14:38:03.291798Z"
    }
   },
   "outputs": [
    {
     "name": "stdout",
     "output_type": "stream",
     "text": [
      "1680\n"
     ]
    }
   ],
   "source": [
    "# 5 item sets        \n",
    "for item in columns:\n",
    "    l1=divide(item,columns)\n",
    "    for item2 in l1:\n",
    "        l2=divide(item2,l1)\n",
    "        for item3 in l2:\n",
    "            l3=divide(item3,l2)\n",
    "            merge_three([item,item2,item3],l3,possible_allocations_5)\n",
    "joblib.dump(possible_allocations_5,'possible_allocations_5.asv')\n",
    "print(len(possible_allocations_5))"
   ]
  },
  {
   "cell_type": "code",
   "execution_count": 18,
   "metadata": {
    "ExecuteTime": {
     "end_time": "2019-10-12T14:38:55.784701Z",
     "start_time": "2019-10-12T14:38:53.932656Z"
    }
   },
   "outputs": [
    {
     "name": "stdout",
     "output_type": "stream",
     "text": [
      "70560\n"
     ]
    }
   ],
   "source": [
    "# 4 item sets\n",
    "for item in columns:\n",
    "    l1=divide(item,columns)\n",
    "    for item2 in l1:\n",
    "        l2=divide(item2,l1)\n",
    "        for item3 in l2:\n",
    "            l3=divide(item3,l2)\n",
    "            for item4 in l3:\n",
    "                l4=divide(item4,l3)\n",
    "                merge_four([item,item2,item3,item4],l4,possible_allocations_4)\n",
    "joblib.dump(possible_allocations_4,'possible_allocations_4.asv')\n",
    "print(len(possible_allocations_4))"
   ]
  },
  {
   "cell_type": "code",
   "execution_count": 19,
   "metadata": {
    "ExecuteTime": {
     "end_time": "2019-10-12T14:42:34.559231Z",
     "start_time": "2019-10-12T14:39:36.641411Z"
    }
   },
   "outputs": [
    {
     "name": "stdout",
     "output_type": "stream",
     "text": [
      "5651520\n"
     ]
    }
   ],
   "source": [
    "# 3 item sets\n",
    "for item in columns:\n",
    "    l1=divide(item,columns)\n",
    "    for item2 in l1:\n",
    "        l2=divide(item2,l1)\n",
    "        for item3 in l2:\n",
    "            l3=divide(item3,l2)\n",
    "            for item4 in l3:\n",
    "                l4=divide(item4,l3)\n",
    "                for item5 in l4:\n",
    "                    l5=divide(item5,l4)\n",
    "                    merge_five([item,item2,item3,item4,item5],l5,possible_allocations_3)\n",
    "joblib.dump(possible_allocations_3,'possible_allocations_3.asv')\n",
    "print(len(possible_allocations_3))"
   ]
  },
  {
   "cell_type": "code",
   "execution_count": 20,
   "metadata": {
    "ExecuteTime": {
     "end_time": "2019-10-12T14:46:16.450213Z",
     "start_time": "2019-10-12T14:43:14.481557Z"
    }
   },
   "outputs": [
    {
     "name": "stdout",
     "output_type": "stream",
     "text": [
      "5765760\n"
     ]
    }
   ],
   "source": [
    "# 2 item sets\n",
    "for item in columns:\n",
    "    l1=divide(item,columns)\n",
    "    for item2 in l1:\n",
    "        l2=divide(item2,l1)\n",
    "        for item3 in l2:\n",
    "            l3=divide(item3,l2)\n",
    "            for item4 in l3:\n",
    "                l4=divide(item4,l3)\n",
    "                for item5 in l4:\n",
    "                    l5=divide(item5,l4)\n",
    "                    for item6 in l5:\n",
    "                        l6=divide(item6,l5)\n",
    "                        merge_six([item,item2,item3,item4,item5,item6],l6,possible_allocations_2)\n",
    "joblib.dump(possible_allocations_2,'possible_allocations_2.asv')\n",
    "print(len(possible_allocations_2))"
   ]
  },
  {
   "cell_type": "code",
   "execution_count": 28,
   "metadata": {
    "ExecuteTime": {
     "end_time": "2019-10-12T14:51:29.082232Z",
     "start_time": "2019-10-12T14:51:29.074229Z"
    }
   },
   "outputs": [
    {
     "name": "stdout",
     "output_type": "stream",
     "text": [
      "8\n"
     ]
    }
   ],
   "source": [
    "# 1 item sets\n",
    "possible_allocations_1.append([[e] for e in columns])\n",
    "possible_allocations_1=possible_allocations_1[0]\n",
    "# Dump data\n",
    "joblib.dump(possible_allocations_1,'possible_allocations_1.asv')\n",
    "print(len(possible_allocations_1))"
   ]
  },
  {
   "cell_type": "markdown",
   "metadata": {},
   "source": [
    "# Run VCG Auction"
   ]
  },
  {
   "cell_type": "code",
   "execution_count": 13,
   "metadata": {
    "ExecuteTime": {
     "end_time": "2019-10-17T01:39:43.715875Z",
     "start_time": "2019-10-17T01:39:39.904171Z"
    }
   },
   "outputs": [
    {
     "data": {
      "application/vnd.jupyter.widget-view+json": {
       "model_id": "1a727a74f8304f28ae98de22a2bbb506",
       "version_major": 2,
       "version_minor": 0
      },
      "text/plain": [
       "A Jupyter Widget"
      ]
     },
     "metadata": {},
     "output_type": "display_data"
    },
    {
     "name": "stdout",
     "output_type": "stream",
     "text": [
      "\n",
      "Best allocation: [[7], [4], [0, 1, 2, 3, 5, 6]] and the mechanism charges 144\n"
     ]
    }
   ],
   "source": [
    "vcg=VCG_Auction_Process(value_mat_origin)\n",
    "vcg.begin(possible_allocations_6)"
   ]
  }
 ],
 "metadata": {
  "kernelspec": {
   "display_name": "Python 3",
   "language": "python",
   "name": "python3"
  },
  "language_info": {
   "codemirror_mode": {
    "name": "ipython",
    "version": 3
   },
   "file_extension": ".py",
   "mimetype": "text/x-python",
   "name": "python",
   "nbconvert_exporter": "python",
   "pygments_lexer": "ipython3",
   "version": "3.6.3"
  },
  "latex_envs": {
   "LaTeX_envs_menu_present": true,
   "autoclose": false,
   "autocomplete": true,
   "bibliofile": "biblio.bib",
   "cite_by": "apalike",
   "current_citInitial": 1,
   "eqLabelWithNumbers": true,
   "eqNumInitial": 1,
   "hotkeys": {
    "equation": "Ctrl-E",
    "itemize": "Ctrl-I"
   },
   "labels_anchors": false,
   "latex_user_defs": false,
   "report_style_numbering": false,
   "user_envs_cfg": false
  },
  "toc": {
   "base_numbering": 1,
   "nav_menu": {},
   "number_sections": true,
   "sideBar": true,
   "skip_h1_title": false,
   "title_cell": "Table of Contents",
   "title_sidebar": "Contents",
   "toc_cell": false,
   "toc_position": {},
   "toc_section_display": true,
   "toc_window_display": false
  }
 },
 "nbformat": 4,
 "nbformat_minor": 2
}
